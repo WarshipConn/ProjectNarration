{
 "cells": [
  {
   "cell_type": "markdown",
   "id": "c06fe1fb",
   "metadata": {},
   "source": [
    "test\n",
    "\n",
    "this should be text yes"
   ]
  },
  {
   "cell_type": "code",
   "execution_count": null,
   "id": "a26f375a-e123-408a-aa1e-75d3d1e2090e",
   "metadata": {},
   "outputs": [],
   "source": [
    "#This should be code\n",
    "\n",
    "a = 1\n",
    "b = 2\n",
    "\n",
    "print(a+b)"
   ]
  }
 ],
 "metadata": {
  "kernelspec": {
   "display_name": "Python 3 (ipykernel)",
   "language": "python",
   "name": "python3"
  },
  "language_info": {
   "codemirror_mode": {
    "name": "ipython",
    "version": 3
   },
   "file_extension": ".py",
   "mimetype": "text/x-python",
   "name": "python",
   "nbconvert_exporter": "python",
   "pygments_lexer": "ipython3",
   "version": "3.11.7"
  }
 },
 "nbformat": 4,
 "nbformat_minor": 5
}
